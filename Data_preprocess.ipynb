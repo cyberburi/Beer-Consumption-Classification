{
  "nbformat": 4,
  "nbformat_minor": 0,
  "metadata": {
    "colab": {
      "name": "Data_preprocess.ipynb",
      "version": "0.3.2",
      "provenance": [],
      "collapsed_sections": [],
      "include_colab_link": true
    },
    "kernelspec": {
      "name": "python3",
      "display_name": "Python 3"
    }
  },
  "cells": [
    {
      "cell_type": "markdown",
      "metadata": {
        "id": "view-in-github",
        "colab_type": "text"
      },
      "source": [
        "<a href=\"https://colab.research.google.com/github/cyberburi/Preprocess-Dataset/blob/master/Data_preprocess.ipynb\" target=\"_parent\"><img src=\"https://colab.research.google.com/assets/colab-badge.svg\" alt=\"Open In Colab\"/></a>"
      ]
    },
    {
      "metadata": {
        "id": "WYwZkqLMvUaz",
        "colab_type": "code",
        "outputId": "975e28e7-a72d-4fbc-8e4f-039116f484d4",
        "colab": {
          "base_uri": "https://localhost:8080/",
          "height": 51
        }
      },
      "cell_type": "code",
      "source": [
        "import numpy as np # linear algebra\n",
        "import pandas as pd # data processing, CSV file I/O (e.g. pd.read_csv)\n",
        "\n",
        "# First, look at everything.\n",
        "from subprocess import check_output\n",
        "print(check_output([\"ls\", \"../content/beer-consumption-sao-paulo.zip\"]).decode(\"utf8\"))"
      ],
      "execution_count": 3,
      "outputs": [
        {
          "output_type": "stream",
          "text": [
            "../content/beer-consumption-sao-paulo.zip\n",
            "\n"
          ],
          "name": "stdout"
        }
      ]
    },
    {
      "metadata": {
        "id": "JWyJ8IKTwffq",
        "colab_type": "code",
        "colab": {}
      },
      "cell_type": "code",
      "source": [
        "#  Pick a Dataset you might be interested in.\n",
        "#  Say, all airline-safety files...\n",
        "import zipfile\n",
        "\n",
        "# Will unzip the files so that you can see them..\n",
        "with zipfile.ZipFile(\"../content/beer-consumption-sao-paulo.zip\",\"r\") as z:\n",
        "    z.extractall(\".\")"
      ],
      "execution_count": 0,
      "outputs": []
    },
    {
      "metadata": {
        "id": "KtQGXUKjvzua",
        "colab_type": "code",
        "outputId": "5311225d-e309-43cb-951f-8baf61fb9a59",
        "colab": {
          "base_uri": "https://localhost:8080/",
          "height": 51
        }
      },
      "cell_type": "code",
      "source": [
        "from subprocess import check_output\n",
        "print(check_output([\"ls\", \"Consumo_cerveja.csv\"]).decode(\"utf8\"))"
      ],
      "execution_count": 5,
      "outputs": [
        {
          "output_type": "stream",
          "text": [
            "Consumo_cerveja.csv\n",
            "\n"
          ],
          "name": "stdout"
        }
      ]
    },
    {
      "metadata": {
        "id": "sxlYz_-CwA7b",
        "colab_type": "code",
        "outputId": "9d3d453c-808c-4c01-8f97-1ced7301586d",
        "colab": {
          "base_uri": "https://localhost:8080/",
          "height": 34
        }
      },
      "cell_type": "code",
      "source": [
        "# There's only one file above...we'll select it.\n",
        "d=pd.read_csv(\"Consumo_cerveja.csv\")\n",
        "d.head(1)\n",
        "d.shape"
      ],
      "execution_count": 26,
      "outputs": [
        {
          "output_type": "execute_result",
          "data": {
            "text/plain": [
              "(365, 6)"
            ]
          },
          "metadata": {
            "tags": []
          },
          "execution_count": 26
        }
      ]
    },
    {
      "metadata": {
        "id": "IqoEerRCx9kE",
        "colab_type": "code",
        "outputId": "5100cdc6-0c2e-45b3-8599-a3c5626a0770",
        "colab": {
          "base_uri": "https://localhost:8080/",
          "height": 2176
        }
      },
      "cell_type": "code",
      "source": [
        "d.isnull().sum"
      ],
      "execution_count": 27,
      "outputs": [
        {
          "output_type": "execute_result",
          "data": {
            "text/plain": [
              "<bound method DataFrame.sum of      Temperatura Media (C)  Temperatura Minima (C)  Temperatura Maxima (C)  \\\n",
              "0                    False                   False                   False   \n",
              "1                    False                   False                   False   \n",
              "2                    False                   False                   False   \n",
              "3                    False                   False                   False   \n",
              "4                    False                   False                   False   \n",
              "5                    False                   False                   False   \n",
              "6                    False                   False                   False   \n",
              "7                    False                   False                   False   \n",
              "8                    False                   False                   False   \n",
              "9                    False                   False                   False   \n",
              "10                   False                   False                   False   \n",
              "11                   False                   False                   False   \n",
              "12                   False                   False                   False   \n",
              "13                   False                   False                   False   \n",
              "14                   False                   False                   False   \n",
              "15                   False                   False                   False   \n",
              "16                   False                   False                   False   \n",
              "17                   False                   False                   False   \n",
              "18                   False                   False                   False   \n",
              "19                   False                   False                   False   \n",
              "20                   False                   False                   False   \n",
              "21                   False                   False                   False   \n",
              "22                   False                   False                   False   \n",
              "23                   False                   False                   False   \n",
              "24                   False                   False                   False   \n",
              "25                   False                   False                   False   \n",
              "26                   False                   False                   False   \n",
              "27                   False                   False                   False   \n",
              "28                   False                   False                   False   \n",
              "29                   False                   False                   False   \n",
              "..                     ...                     ...                     ...   \n",
              "335                  False                   False                   False   \n",
              "336                  False                   False                   False   \n",
              "337                  False                   False                   False   \n",
              "338                  False                   False                   False   \n",
              "339                  False                   False                   False   \n",
              "340                  False                   False                   False   \n",
              "341                  False                   False                   False   \n",
              "342                  False                   False                   False   \n",
              "343                  False                   False                   False   \n",
              "344                  False                   False                   False   \n",
              "345                  False                   False                   False   \n",
              "346                  False                   False                   False   \n",
              "347                  False                   False                   False   \n",
              "348                  False                   False                   False   \n",
              "349                  False                   False                   False   \n",
              "350                  False                   False                   False   \n",
              "351                  False                   False                   False   \n",
              "352                  False                   False                   False   \n",
              "353                  False                   False                   False   \n",
              "354                  False                   False                   False   \n",
              "355                  False                   False                   False   \n",
              "356                  False                   False                   False   \n",
              "357                  False                   False                   False   \n",
              "358                  False                   False                   False   \n",
              "359                  False                   False                   False   \n",
              "360                  False                   False                   False   \n",
              "361                  False                   False                   False   \n",
              "362                  False                   False                   False   \n",
              "363                  False                   False                   False   \n",
              "364                  False                   False                   False   \n",
              "\n",
              "     Precipitacao (mm)  Final de Semana  Consumo de cerveja (litros)  \n",
              "0                False            False                        False  \n",
              "1                False            False                        False  \n",
              "2                False            False                        False  \n",
              "3                False            False                        False  \n",
              "4                False            False                        False  \n",
              "5                False            False                        False  \n",
              "6                False            False                        False  \n",
              "7                False            False                        False  \n",
              "8                False            False                        False  \n",
              "9                False            False                        False  \n",
              "10               False            False                        False  \n",
              "11               False            False                        False  \n",
              "12               False            False                        False  \n",
              "13               False            False                        False  \n",
              "14               False            False                        False  \n",
              "15               False            False                        False  \n",
              "16               False            False                        False  \n",
              "17               False            False                        False  \n",
              "18               False            False                        False  \n",
              "19               False            False                        False  \n",
              "20               False            False                        False  \n",
              "21               False            False                        False  \n",
              "22               False            False                        False  \n",
              "23               False            False                        False  \n",
              "24               False            False                        False  \n",
              "25               False            False                        False  \n",
              "26               False            False                        False  \n",
              "27               False            False                        False  \n",
              "28               False            False                        False  \n",
              "29               False            False                        False  \n",
              "..                 ...              ...                          ...  \n",
              "335              False            False                        False  \n",
              "336              False            False                        False  \n",
              "337              False            False                        False  \n",
              "338              False            False                        False  \n",
              "339              False            False                        False  \n",
              "340              False            False                        False  \n",
              "341              False            False                        False  \n",
              "342              False            False                        False  \n",
              "343              False            False                        False  \n",
              "344              False            False                        False  \n",
              "345              False            False                        False  \n",
              "346              False            False                        False  \n",
              "347              False            False                        False  \n",
              "348              False            False                        False  \n",
              "349              False            False                        False  \n",
              "350              False            False                        False  \n",
              "351              False            False                        False  \n",
              "352              False            False                        False  \n",
              "353              False            False                        False  \n",
              "354              False            False                        False  \n",
              "355              False            False                        False  \n",
              "356              False            False                        False  \n",
              "357              False            False                        False  \n",
              "358              False            False                        False  \n",
              "359              False            False                        False  \n",
              "360              False            False                        False  \n",
              "361              False            False                        False  \n",
              "362              False            False                        False  \n",
              "363              False            False                        False  \n",
              "364              False            False                        False  \n",
              "\n",
              "[365 rows x 6 columns]>"
            ]
          },
          "metadata": {
            "tags": []
          },
          "execution_count": 27
        }
      ]
    },
    {
      "metadata": {
        "id": "AZMuk3_zzCWk",
        "colab_type": "code",
        "outputId": "d7b213cb-2902-48f9-fb12-8425a8abe85e",
        "colab": {
          "base_uri": "https://localhost:8080/",
          "height": 136
        }
      },
      "cell_type": "code",
      "source": [
        "d.dropna(inplace=True)\n",
        "d.isnull().sum()"
      ],
      "execution_count": 28,
      "outputs": [
        {
          "output_type": "execute_result",
          "data": {
            "text/plain": [
              "Temperatura Media (C)          0\n",
              "Temperatura Minima (C)         0\n",
              "Temperatura Maxima (C)         0\n",
              "Precipitacao (mm)              0\n",
              "Final de Semana                0\n",
              "Consumo de cerveja (litros)    0\n",
              "dtype: int64"
            ]
          },
          "metadata": {
            "tags": []
          },
          "execution_count": 28
        }
      ]
    },
    {
      "metadata": {
        "id": "YVEMq9n373Te",
        "colab_type": "code",
        "colab": {}
      },
      "cell_type": "code",
      "source": [
        "d"
      ],
      "execution_count": 0,
      "outputs": []
    },
    {
      "metadata": {
        "id": "x_qTOhWt8aqp",
        "colab_type": "code",
        "colab": {}
      },
      "cell_type": "code",
      "source": [
        "X= d.iloc[ : , :-1].values\n",
        "X"
      ],
      "execution_count": 0,
      "outputs": []
    },
    {
      "metadata": {
        "id": "UMVOzANVzUg3",
        "colab_type": "code",
        "colab": {
          "base_uri": "https://localhost:8080/",
          "height": 136
        },
        "outputId": "24a1025e-9af3-4392-dfcf-56df633338fe"
      },
      "cell_type": "code",
      "source": [
        "from sklearn.model_selection import train_test_split\n",
        "X_train, X_test = train_test_split(X,test_size=0.2)\n",
        "X_train"
      ],
      "execution_count": 66,
      "outputs": [
        {
          "output_type": "execute_result",
          "data": {
            "text/plain": [
              "array([[22.94, 19.7 , 27.1 ,  0.  ,  0.  ],\n",
              "       [21.92, 18.6 , 29.4 , 22.4 ,  0.  ],\n",
              "       [19.94, 15.9 , 24.4 ,  0.  ,  1.  ],\n",
              "       ...,\n",
              "       [26.2 , 19.8 , 32.7 ,  0.  ,  0.  ],\n",
              "       [22.8 , 20.9 , 26.9 ,  0.  ,  0.  ],\n",
              "       [17.18, 13.2 , 22.3 ,  0.  ,  1.  ]])"
            ]
          },
          "metadata": {
            "tags": []
          },
          "execution_count": 66
        }
      ]
    },
    {
      "metadata": {
        "id": "wAM33vKx72wB",
        "colab_type": "code",
        "colab": {}
      },
      "cell_type": "code",
      "source": [
        "X_test"
      ],
      "execution_count": 0,
      "outputs": []
    },
    {
      "metadata": {
        "id": "5zXIK_Jm72LM",
        "colab_type": "code",
        "colab": {}
      },
      "cell_type": "code",
      "source": [
        "from sklearn.preprocessing import StandardScaler\n",
        "standard_X = StandardScaler()"
      ],
      "execution_count": 0,
      "outputs": []
    },
    {
      "metadata": {
        "id": "XjixXLPi9jXm",
        "colab_type": "code",
        "colab": {}
      },
      "cell_type": "code",
      "source": [
        "X_train = standard_X.fit_transform(X_train)\n",
        "X_test = standard_X.fit_transform(X_test)"
      ],
      "execution_count": 0,
      "outputs": []
    },
    {
      "metadata": {
        "id": "TR6VizFo6sEM",
        "colab_type": "code",
        "colab": {}
      },
      "cell_type": "code",
      "source": [
        "import pandas as pd\n",
        "\n",
        "train = pd.DataFrame(X_train)\n",
        "train.to_csv('traindataset.csv')\n",
        "\n",
        "\n",
        "test = pd.DataFrame(X_test)\n",
        "test.to_csv('testdataset.csv')\n"
      ],
      "execution_count": 0,
      "outputs": []
    },
    {
      "metadata": {
        "id": "iszTvbMv_zqr",
        "colab_type": "code",
        "colab": {}
      },
      "cell_type": "code",
      "source": [
        "#d.to_csv(r'/content/beerdataset.csv')\n"
      ],
      "execution_count": 0,
      "outputs": []
    }
  ]
}