{
  "nbformat": 4,
  "nbformat_minor": 0,
  "metadata": {
    "colab": {
      "name": "PR_HW_3.ipynb",
      "version": "0.3.2",
      "provenance": [],
      "collapsed_sections": []
    },
    "kernelspec": {
      "name": "python3",
      "display_name": "Python 3"
    }
  },
  "cells": [
    {
      "metadata": {
        "id": "y7wLvbBn1sXP",
        "colab_type": "code",
        "colab": {}
      },
      "cell_type": "code",
      "source": [
        "import numpy as np\n",
        "import pandas as pd"
      ],
      "execution_count": 0,
      "outputs": []
    },
    {
      "metadata": {
        "id": "6olaKJU410qV",
        "colab_type": "code",
        "colab": {}
      },
      "cell_type": "code",
      "source": [
        "train_x = pd.read_csv(\"traindataset.csv\", index_col=0).values\n",
        "train_y = pd.read_csv(\"targetraindataset.csv\", index_col=0).values\n",
        "test_x = pd.read_csv(\"testdataset.csv\", index_col=0).values\n",
        "test_y = pd.read_csv(\"targettestdataset.csv\", index_col=0).values"
      ],
      "execution_count": 0,
      "outputs": []
    },
    {
      "metadata": {
        "id": "aj1Z1Zvo1636",
        "colab_type": "code",
        "colab": {}
      },
      "cell_type": "code",
      "source": [
        "# Average beer consumption = 25.4013671232877\n",
        "avg = 25.4013671232877"
      ],
      "execution_count": 0,
      "outputs": []
    },
    {
      "metadata": {
        "id": "gB8ZkUH52Ckx",
        "colab_type": "code",
        "colab": {}
      },
      "cell_type": "code",
      "source": [
        "temp_train_y = train_y\n",
        "temp_test_y = test_y"
      ],
      "execution_count": 0,
      "outputs": []
    },
    {
      "metadata": {
        "id": "vg-qA0Mn2LCY",
        "colab_type": "code",
        "colab": {}
      },
      "cell_type": "code",
      "source": [
        "train_y = []\n",
        "test_y = []\n",
        "for a in temp_train_y:\n",
        "  if a > avg:\n",
        "    train_y.append(1)\n",
        "  else:\n",
        "    train_y.append(0)\n",
        "for a in temp_test_y:\n",
        "  if a > avg:\n",
        "    test_y.append(1)\n",
        "  else:\n",
        "    test_y.append(0)"
      ],
      "execution_count": 0,
      "outputs": []
    },
    {
      "metadata": {
        "id": "XaaXpglOfwu6",
        "colab_type": "code",
        "colab": {}
      },
      "cell_type": "code",
      "source": [
        "from sklearn.neighbors import KNeighborsClassifier"
      ],
      "execution_count": 0,
      "outputs": []
    },
    {
      "metadata": {
        "id": "Zdx94d7ln3ih",
        "colab_type": "code",
        "colab": {}
      },
      "cell_type": "code",
      "source": [
        "model_manhattan_3 = KNeighborsClassifier(n_neighbors=3, p=1)"
      ],
      "execution_count": 0,
      "outputs": []
    },
    {
      "metadata": {
        "id": "AjCL9IBepS4q",
        "colab_type": "code",
        "colab": {}
      },
      "cell_type": "code",
      "source": [
        "model_manhattan_5 = KNeighborsClassifier(n_neighbors=5, p=1)"
      ],
      "execution_count": 0,
      "outputs": []
    },
    {
      "metadata": {
        "id": "S79qOd8EpXr_",
        "colab_type": "code",
        "colab": {}
      },
      "cell_type": "code",
      "source": [
        "model_euclid_3 = KNeighborsClassifier(n_neighbors=3, p=2)"
      ],
      "execution_count": 0,
      "outputs": []
    },
    {
      "metadata": {
        "id": "OOZaWge2pdlq",
        "colab_type": "code",
        "colab": {}
      },
      "cell_type": "code",
      "source": [
        "model_euclid_5 = KNeighborsClassifier(n_neighbors=5, p=2)"
      ],
      "execution_count": 0,
      "outputs": []
    },
    {
      "metadata": {
        "id": "3AQdiKM7phoU",
        "colab_type": "code",
        "outputId": "32c622e2-3745-4db6-f3d6-56880429908f",
        "colab": {
          "base_uri": "https://localhost:8080/",
          "height": 68
        }
      },
      "cell_type": "code",
      "source": [
        "model_manhattan_3.fit(train_x, train_y)"
      ],
      "execution_count": 0,
      "outputs": [
        {
          "output_type": "execute_result",
          "data": {
            "text/plain": [
              "KNeighborsClassifier(algorithm='auto', leaf_size=30, metric='minkowski',\n",
              "           metric_params=None, n_jobs=None, n_neighbors=3, p=1,\n",
              "           weights='uniform')"
            ]
          },
          "metadata": {
            "tags": []
          },
          "execution_count": 11
        }
      ]
    },
    {
      "metadata": {
        "id": "bJAZsux-qKEM",
        "colab_type": "code",
        "outputId": "7f194385-e032-4f0c-ce7e-1678596f4060",
        "colab": {
          "base_uri": "https://localhost:8080/",
          "height": 68
        }
      },
      "cell_type": "code",
      "source": [
        "model_manhattan_5.fit(train_x, train_y)"
      ],
      "execution_count": 0,
      "outputs": [
        {
          "output_type": "execute_result",
          "data": {
            "text/plain": [
              "KNeighborsClassifier(algorithm='auto', leaf_size=30, metric='minkowski',\n",
              "           metric_params=None, n_jobs=None, n_neighbors=5, p=1,\n",
              "           weights='uniform')"
            ]
          },
          "metadata": {
            "tags": []
          },
          "execution_count": 12
        }
      ]
    },
    {
      "metadata": {
        "id": "kSqdpgp8qOTn",
        "colab_type": "code",
        "outputId": "1455db46-9ebf-435f-cc95-e6859e86fe05",
        "colab": {
          "base_uri": "https://localhost:8080/",
          "height": 68
        }
      },
      "cell_type": "code",
      "source": [
        "model_euclid_3.fit(train_x, train_y)"
      ],
      "execution_count": 0,
      "outputs": [
        {
          "output_type": "execute_result",
          "data": {
            "text/plain": [
              "KNeighborsClassifier(algorithm='auto', leaf_size=30, metric='minkowski',\n",
              "           metric_params=None, n_jobs=None, n_neighbors=3, p=2,\n",
              "           weights='uniform')"
            ]
          },
          "metadata": {
            "tags": []
          },
          "execution_count": 13
        }
      ]
    },
    {
      "metadata": {
        "id": "qF5zAX_1qRQG",
        "colab_type": "code",
        "outputId": "e10207d4-64fb-42a1-e85b-446ae740e2f9",
        "colab": {
          "base_uri": "https://localhost:8080/",
          "height": 68
        }
      },
      "cell_type": "code",
      "source": [
        "model_euclid_5.fit(train_x, train_y)"
      ],
      "execution_count": 0,
      "outputs": [
        {
          "output_type": "execute_result",
          "data": {
            "text/plain": [
              "KNeighborsClassifier(algorithm='auto', leaf_size=30, metric='minkowski',\n",
              "           metric_params=None, n_jobs=None, n_neighbors=5, p=2,\n",
              "           weights='uniform')"
            ]
          },
          "metadata": {
            "tags": []
          },
          "execution_count": 14
        }
      ]
    },
    {
      "metadata": {
        "id": "Bsqi7l8CqURn",
        "colab_type": "code",
        "colab": {}
      },
      "cell_type": "code",
      "source": [
        "pred_manhattan_3 = model_manhattan_3.predict(test_x)"
      ],
      "execution_count": 0,
      "outputs": []
    },
    {
      "metadata": {
        "id": "7AwdFlNerGJK",
        "colab_type": "code",
        "colab": {}
      },
      "cell_type": "code",
      "source": [
        "pred_manhattan_5 = model_manhattan_5.predict(test_x)"
      ],
      "execution_count": 0,
      "outputs": []
    },
    {
      "metadata": {
        "id": "7ViI6ZMqrJ_P",
        "colab_type": "code",
        "colab": {}
      },
      "cell_type": "code",
      "source": [
        "pred_euclid_3 = model_euclid_3.predict(test_x)"
      ],
      "execution_count": 0,
      "outputs": []
    },
    {
      "metadata": {
        "id": "lscj7t-xrOE3",
        "colab_type": "code",
        "colab": {}
      },
      "cell_type": "code",
      "source": [
        "pred_euclid_5 = model_euclid_5.predict(test_x)"
      ],
      "execution_count": 0,
      "outputs": []
    },
    {
      "metadata": {
        "id": "4AcmGWknrRf5",
        "colab_type": "code",
        "colab": {}
      },
      "cell_type": "code",
      "source": [
        "from sklearn import metrics"
      ],
      "execution_count": 0,
      "outputs": []
    },
    {
      "metadata": {
        "id": "heBVXUIArbYg",
        "colab_type": "code",
        "outputId": "fbd93364-afc6-4352-8fee-f0398bb5070c",
        "colab": {
          "base_uri": "https://localhost:8080/",
          "height": 85
        }
      },
      "cell_type": "code",
      "source": [
        "print(\"Accuracy for Manhattan distance and 3 K's: \", metrics.accuracy_score(test_y, pred_manhattan_3))\n",
        "print(\"Accuracy for Manhattan distance and 5 K's: \", metrics.accuracy_score(test_y, pred_manhattan_5))\n",
        "print(\"Accuracy for Euclidean distance and 3 K's: \", metrics.accuracy_score(test_y, pred_euclid_3))\n",
        "print(\"Accuracy for Euclidean distance and 5 K's: \", metrics.accuracy_score(test_y, pred_euclid_5))"
      ],
      "execution_count": 0,
      "outputs": [
        {
          "output_type": "stream",
          "text": [
            "Accuracy for Manhattan distance and 3 K's:  0.7808219178082192\n",
            "Accuracy for Manhattan distance and 5 K's:  0.7945205479452054\n",
            "Accuracy for Euclidean distance and 3 K's:  0.8082191780821918\n",
            "Accuracy for Euclidean distance and 5 K's:  0.7671232876712328\n"
          ],
          "name": "stdout"
        }
      ]
    },
    {
      "metadata": {
        "id": "FRXhhY3vr6kV",
        "colab_type": "code",
        "colab": {}
      },
      "cell_type": "code",
      "source": [
        "CMM3 = metrics.confusion_matrix(test_y, pred_manhattan_3)\n",
        "CMM5 = metrics.confusion_matrix(test_y, pred_manhattan_5)\n",
        "CME3 = metrics.confusion_matrix(test_y, pred_euclid_3)\n",
        "CME5 = metrics.confusion_matrix(test_y, pred_euclid_5)"
      ],
      "execution_count": 0,
      "outputs": []
    },
    {
      "metadata": {
        "id": "Lsl1WAydsdaY",
        "colab_type": "code",
        "colab": {}
      },
      "cell_type": "code",
      "source": [
        "def get_acc(model):\n",
        "  tp = model[0][0]\n",
        "  tn = model[1][1]\n",
        "  total = len(test_y)\n",
        "  return (tp + tn) / total"
      ],
      "execution_count": 0,
      "outputs": []
    },
    {
      "metadata": {
        "id": "Yvt_foKUtLmR",
        "colab_type": "code",
        "colab": {}
      },
      "cell_type": "code",
      "source": [
        "def get_sensitivity(model):\n",
        "  tp = model[0][0]\n",
        "  fp = model[1][0]\n",
        "  return tp / (tp + fp) "
      ],
      "execution_count": 0,
      "outputs": []
    },
    {
      "metadata": {
        "id": "8W9ONucKtPkV",
        "colab_type": "code",
        "outputId": "8c512067-51c2-44a6-f2f2-6a9b77834b78",
        "colab": {
          "base_uri": "https://localhost:8080/",
          "height": 85
        }
      },
      "cell_type": "code",
      "source": [
        "print(\"Sensitivity for Manhattan distance and 3 K's: \", get_sensitivity(CMM3))\n",
        "print(\"Sensitivity for Manhattan distance and 5 K's: \", get_sensitivity(CMM5))\n",
        "print(\"Sensitivity for Euclidean distance and 3 K's: \", get_sensitivity(CME3))\n",
        "print(\"Sensitivity for Euclidean distance and 5 K's: \", get_sensitivity(CME5))"
      ],
      "execution_count": 0,
      "outputs": [
        {
          "output_type": "stream",
          "text": [
            "Sensitivity for Manhattan distance and 3 K's:  0.825\n",
            "Sensitivity for Manhattan distance and 5 K's:  0.8292682926829268\n",
            "Sensitivity for Euclidean distance and 3 K's:  0.85\n",
            "Sensitivity for Euclidean distance and 5 K's:  0.7906976744186046\n"
          ],
          "name": "stdout"
        }
      ]
    },
    {
      "metadata": {
        "id": "LJycbdj9ttKO",
        "colab_type": "code",
        "colab": {}
      },
      "cell_type": "code",
      "source": [
        "def get_specificity(model):\n",
        "  fn = model[0][1]\n",
        "  tn = model[1][1]\n",
        "  return tn / (tn + fn)"
      ],
      "execution_count": 0,
      "outputs": []
    },
    {
      "metadata": {
        "id": "3idrpYyjuPE5",
        "colab_type": "code",
        "outputId": "d72c77ef-793a-4387-9ac7-90620f1b6705",
        "colab": {
          "base_uri": "https://localhost:8080/",
          "height": 85
        }
      },
      "cell_type": "code",
      "source": [
        "print(\"Specificity for Manhattan distance and 3 K's: \", get_specificity(CMM3))\n",
        "print(\"Specificity for Manhattan distance and 5 K's: \", get_specificity(CMM5))\n",
        "print(\"Specificity for Euclidean distance and 3 K's: \", get_specificity(CME3))\n",
        "print(\"Specificity for Euclidean distance and 5 K's: \", get_specificity(CME5))"
      ],
      "execution_count": 0,
      "outputs": [
        {
          "output_type": "stream",
          "text": [
            "Specificity for Manhattan distance and 3 K's:  0.7272727272727273\n",
            "Specificity for Manhattan distance and 5 K's:  0.75\n",
            "Specificity for Euclidean distance and 3 K's:  0.7575757575757576\n",
            "Specificity for Euclidean distance and 5 K's:  0.7333333333333333\n"
          ],
          "name": "stdout"
        }
      ]
    },
    {
      "metadata": {
        "id": "rorJmgYYvDPF",
        "colab_type": "code",
        "colab": {}
      },
      "cell_type": "code",
      "source": [
        "from sklearn.naive_bayes import GaussianNB"
      ],
      "execution_count": 0,
      "outputs": []
    },
    {
      "metadata": {
        "id": "OPGwz3Kpzbdp",
        "colab_type": "code",
        "colab": {}
      },
      "cell_type": "code",
      "source": [
        "model_naive_bayes = GaussianNB()"
      ],
      "execution_count": 0,
      "outputs": []
    },
    {
      "metadata": {
        "id": "htqNm2-NzkcK",
        "colab_type": "code",
        "outputId": "f5c4aa91-48d5-4ad0-ad99-883e688d9ce0",
        "colab": {
          "base_uri": "https://localhost:8080/",
          "height": 34
        }
      },
      "cell_type": "code",
      "source": [
        "model_naive_bayes.fit(train_x, train_y)"
      ],
      "execution_count": 0,
      "outputs": [
        {
          "output_type": "execute_result",
          "data": {
            "text/plain": [
              "GaussianNB(priors=None, var_smoothing=1e-09)"
            ]
          },
          "metadata": {
            "tags": []
          },
          "execution_count": 47
        }
      ]
    },
    {
      "metadata": {
        "id": "jf8lLvO6zq0d",
        "colab_type": "code",
        "colab": {}
      },
      "cell_type": "code",
      "source": [
        "pred_naive_bayes = model_naive_bayes.predict(test_x)"
      ],
      "execution_count": 0,
      "outputs": []
    },
    {
      "metadata": {
        "id": "vt1AYggtz0Yi",
        "colab_type": "code",
        "colab": {}
      },
      "cell_type": "code",
      "source": [
        "CMNB = metrics.confusion_matrix(test_y, pred_naive_bayes)"
      ],
      "execution_count": 0,
      "outputs": []
    },
    {
      "metadata": {
        "id": "EnjsA-wZ0Eyd",
        "colab_type": "code",
        "outputId": "e6180051-1352-44d1-a1e1-858fd3b78fb1",
        "colab": {
          "base_uri": "https://localhost:8080/",
          "height": 68
        }
      },
      "cell_type": "code",
      "source": [
        "print(\"Accuracy for Naive Bayes: \", get_acc(CMNB))\n",
        "print(\"Sensitivity for Naive Bayes: \", get_sensitivity(CMNB))\n",
        "print(\"Specificity for Naive Bayes: \", get_specificity(CMNB))"
      ],
      "execution_count": 0,
      "outputs": [
        {
          "output_type": "stream",
          "text": [
            "Accuracy for Naive Bayes:  0.7671232876712328\n",
            "Sensitivity for Naive Bayes:  0.8571428571428571\n",
            "Specificity for Naive Bayes:  0.6842105263157895\n"
          ],
          "name": "stdout"
        }
      ]
    }
  ]
}